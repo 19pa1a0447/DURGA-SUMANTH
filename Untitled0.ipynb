{
  "nbformat": 4,
  "nbformat_minor": 0,
  "metadata": {
    "colab": {
      "name": "Untitled0.ipynb",
      "provenance": [],
      "authorship_tag": "ABX9TyPZSuWyRbU1iGdS/PcWFzgj",
      "include_colab_link": true
    },
    "kernelspec": {
      "name": "python3",
      "display_name": "Python 3"
    }
  },
  "cells": [
    {
      "cell_type": "markdown",
      "metadata": {
        "id": "view-in-github",
        "colab_type": "text"
      },
      "source": [
        "<a href=\"https://colab.research.google.com/github/19pa1a0447/DURGA-SUMANTH/blob/master/Untitled0.ipynb\" target=\"_parent\"><img src=\"https://colab.research.google.com/assets/colab-badge.svg\" alt=\"Open In Colab\"/></a>"
      ]
    },
    {
      "cell_type": "code",
      "metadata": {
        "id": "NI9heoZzkYIG",
        "colab_type": "code",
        "outputId": "1f0476f6-70f2-45ed-a7c1-46ede4f85506",
        "colab": {
          "base_uri": "https://localhost:8080/",
          "height": 35
        }
      },
      "source": [
        "a=10\n",
        "b=13\n",
        "if(a>b):\n",
        "  print(a,\"is the largest number\")\n",
        "else:\n",
        "  print(b,\"is the largest number\")  "
      ],
      "execution_count": 0,
      "outputs": [
        {
          "output_type": "stream",
          "text": [
            "13 is the largest number\n"
          ],
          "name": "stdout"
        }
      ]
    },
    {
      "cell_type": "code",
      "metadata": {
        "id": "cvhj0sljmZWX",
        "colab_type": "code",
        "colab": {
          "base_uri": "https://localhost:8080/",
          "height": 445
        },
        "outputId": "3253df03-e764-4fa8-afdf-eb0521f69319"
      },
      "source": [
        "r=int(input(\"enter the positive range\"))\n",
        "for i in range (1,r+1):\n",
        "  if (i%2==0):\n",
        "    print(i,\"is a even number\")\n",
        "  else:\n",
        "    print(i,\"is a odd number\")"
      ],
      "execution_count": 7,
      "outputs": [
        {
          "output_type": "stream",
          "text": [
            "enter the positive range23\n",
            "1 is a odd number\n",
            "2 is a even number\n",
            "3 is a odd number\n",
            "4 is a even number\n",
            "5 is a odd number\n",
            "6 is a even number\n",
            "7 is a odd number\n",
            "8 is a even number\n",
            "9 is a odd number\n",
            "10 is a even number\n",
            "11 is a odd number\n",
            "12 is a even number\n",
            "13 is a odd number\n",
            "14 is a even number\n",
            "15 is a odd number\n",
            "16 is a even number\n",
            "17 is a odd number\n",
            "18 is a even number\n",
            "19 is a odd number\n",
            "20 is a even number\n",
            "21 is a odd number\n",
            "22 is a even number\n",
            "23 is a odd number\n"
          ],
          "name": "stdout"
        }
      ]
    },
    {
      "cell_type": "code",
      "metadata": {
        "id": "p59Ddtoq7Rmn",
        "colab_type": "code",
        "colab": {
          "base_uri": "https://localhost:8080/",
          "height": 53
        },
        "outputId": "1a82fb04-f15c-4cf8-dd56-47fb4adea667"
      },
      "source": [
        "import numpy as np\n",
        "x=np.array([1,2,3,'n',4])\n",
        "print(type(x))\n",
        "print(x)\n"
      ],
      "execution_count": 9,
      "outputs": [
        {
          "output_type": "stream",
          "text": [
            "<class 'numpy.ndarray'>\n",
            "['1' '2' '3' 'n' '4']\n"
          ],
          "name": "stdout"
        }
      ]
    },
    {
      "cell_type": "code",
      "metadata": {
        "id": "2bfzwi877wP3",
        "colab_type": "code",
        "colab": {
          "base_uri": "https://localhost:8080/",
          "height": 53
        },
        "outputId": "33511dd0-87d2-4dc2-a741-b084c9430b9d"
      },
      "source": [
        "import numpy as np\n",
        "x=np.array([1,2,3,'n',4])\n",
        "print(x)\n",
        "print(type(x))\n"
      ],
      "execution_count": 10,
      "outputs": [
        {
          "output_type": "stream",
          "text": [
            "['1' '2' '3' 'n' '4']\n",
            "<class 'numpy.ndarray'>\n"
          ],
          "name": "stdout"
        }
      ]
    },
    {
      "cell_type": "code",
      "metadata": {
        "id": "vGJgfjW58Kpj",
        "colab_type": "code",
        "colab": {
          "base_uri": "https://localhost:8080/",
          "height": 178
        },
        "outputId": "177b50fd-fc33-4cc3-a4a2-8b624747c7ac"
      },
      "source": [
        "import numpy as np\n",
        "y=np.linspace(start=1,stop=5)\n",
        "print(y)\n"
      ],
      "execution_count": 11,
      "outputs": [
        {
          "output_type": "stream",
          "text": [
            "[1.         1.08163265 1.16326531 1.24489796 1.32653061 1.40816327\n",
            " 1.48979592 1.57142857 1.65306122 1.73469388 1.81632653 1.89795918\n",
            " 1.97959184 2.06122449 2.14285714 2.2244898  2.30612245 2.3877551\n",
            " 2.46938776 2.55102041 2.63265306 2.71428571 2.79591837 2.87755102\n",
            " 2.95918367 3.04081633 3.12244898 3.20408163 3.28571429 3.36734694\n",
            " 3.44897959 3.53061224 3.6122449  3.69387755 3.7755102  3.85714286\n",
            " 3.93877551 4.02040816 4.10204082 4.18367347 4.26530612 4.34693878\n",
            " 4.42857143 4.51020408 4.59183673 4.67346939 4.75510204 4.83673469\n",
            " 4.91836735 5.        ]\n"
          ],
          "name": "stdout"
        }
      ]
    },
    {
      "cell_type": "code",
      "metadata": {
        "id": "CMUjYa-R8oJm",
        "colab_type": "code",
        "colab": {
          "base_uri": "https://localhost:8080/",
          "height": 35
        },
        "outputId": "ec1f66ce-4209-4dcd-e55e-30010b5c8a54"
      },
      "source": [
        "import numpy as np\n",
        "x=np.arange(start=1,stop=20,step=2)\n",
        "print(x)\n"
      ],
      "execution_count": 14,
      "outputs": [
        {
          "output_type": "stream",
          "text": [
            "[ 1  3  5  7  9 11 13 15 17 19]\n"
          ],
          "name": "stdout"
        }
      ]
    },
    {
      "cell_type": "code",
      "metadata": {
        "id": "nr5y6v9f9MeC",
        "colab_type": "code",
        "colab": {
          "base_uri": "https://localhost:8080/",
          "height": 70
        },
        "outputId": "81773270-6ff7-489e-8ddd-53ae9f54332f"
      },
      "source": [
        "import numpy as np\n",
        "x=np.zeros((3,3))\n",
        "print(x)\n"
      ],
      "execution_count": 15,
      "outputs": [
        {
          "output_type": "stream",
          "text": [
            "[[0. 0. 0.]\n",
            " [0. 0. 0.]\n",
            " [0. 0. 0.]]\n"
          ],
          "name": "stdout"
        }
      ]
    },
    {
      "cell_type": "code",
      "metadata": {
        "id": "o0xAaMVB9gZh",
        "colab_type": "code",
        "colab": {
          "base_uri": "https://localhost:8080/",
          "height": 53
        },
        "outputId": "d939b731-279b-41a4-dd81-e720aaf4e81a"
      },
      "source": [
        "import numpy as py\n",
        "x=np.random.rand(2,5)\n",
        "print(x)"
      ],
      "execution_count": 16,
      "outputs": [
        {
          "output_type": "stream",
          "text": [
            "[[0.32306343 0.53804655 0.64904784 0.93672629 0.44616042]\n",
            " [0.08785174 0.14845216 0.22966145 0.8358173  0.715633  ]]\n"
          ],
          "name": "stdout"
        }
      ]
    },
    {
      "cell_type": "code",
      "metadata": {
        "id": "IlkXz98u90nI",
        "colab_type": "code",
        "colab": {
          "base_uri": "https://localhost:8080/",
          "height": 35
        },
        "outputId": "d0823e5c-213a-4dfa-fbb1-359444eded54"
      },
      "source": [
        "import numpy as py\n",
        "x=np.random.rand(10)\n",
        "x=x.astype(int)\n",
        "print(x)\n"
      ],
      "execution_count": 17,
      "outputs": [
        {
          "output_type": "stream",
          "text": [
            "[0 0 0 0 0 0 0 0 0 0]\n"
          ],
          "name": "stdout"
        }
      ]
    }
  ]
}